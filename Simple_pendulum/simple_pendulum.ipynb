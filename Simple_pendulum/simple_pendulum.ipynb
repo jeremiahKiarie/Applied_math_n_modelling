{
 "cells": [
  {
   "cell_type": "markdown",
   "id": "bcbba340",
   "metadata": {},
   "source": [
    "# SIMPLE PENDULUM\n",
    "A simple pendlum is made from a small ball called a bob suspended by a long thread from a rigid support. In this discussion we will assume the thread is completely rigid i.e. cannot be stretched, contracted or broken.\n",
    "\n",
    "## Define the system\n",
    "We have a pendulum:\n",
    "\n",
    "- A point mass m at the end of a massless rigid rod,\n",
    "\n",
    "- Subject to gravity and a damping force (e.g., air resistance),\n",
    "\n",
    "- It swings in a vertical plane (2D rotation).\n",
    "\n",
    "To find and visualize the change in position over time, we require the velocity and in turn the acceleartion in the angular domain\n",
    "\n",
    "$$\\qquad \\ddot{\\theta} \\quad \\rightarrow \\quad \\dot{\\theta} \\quad \\rightarrow \\quad \\theta $$\n",
    "\n",
    "We can get acceleration from Newton's second law of motion\n",
    "\n",
    "$$ F_{net} = ma = mL\\ddot{\\theta} $$\n",
    "\n",
    "$$F = -F_g sin(\\theta) $$\n",
    "\n",
    "where:\n",
    "\n",
    "- m : Mass (Kg)\n",
    "- a : Linear acceleration (m/$x^2$)\n",
    "- L : Length of massless rigid rod (m)\n",
    "\n",
    "## Forces acting on the bob\n",
    "At any angle $\\theta$, the tangential component of gravity is acting on the bob\n",
    "\n",
    "<div style=\"display: flex; align-items: center;\">\n",
    "\n",
    "  <img src=\"Resources\\pendulum.png\" alt=\"Pendulum image with angles\" style=\"margin-right: 20px;\"/>\n",
    "\n",
    "  From the image we can deduce<br> $\\qquad F = -F_g sin(\\theta)$ <br> $\\qquad F = -mg sin(\\theta)$ <br> (negative because it acts to restore the pendulum to equilibrium)\n",
    "\n",
    "</div>\n",
    "\n",
    "We also have damping, a force proportional to velocity (opposing motion):\n",
    "\n",
    "$$F_{damping} = -bV = -bL\\dot{\\theta}$$\n",
    "\n",
    "where:\n",
    "\n",
    "- b : damping coefficient (Kg/s)\n",
    "- V : tangential velocity of bob\n",
    "\n",
    "$\\therefore$\n",
    "\n",
    "$$ F_{net} = mL\\ddot{\\theta} = -mg sin(\\theta) -bL\\dot{\\theta}$$\n",
    "\n",
    "$\\therefore$\n",
    "\n",
    "$$ \\ddot{\\theta} = -\\frac{g}{L}sin(\\theta) -\\frac{b}{m}\\dot{\\theta}$$"
   ]
  },
  {
   "cell_type": "code",
   "execution_count": 1,
   "id": "a8c915f8",
   "metadata": {},
   "outputs": [],
   "source": [
    "import numpy as np\n",
    "from scipy.integrate import solve_ivp\n",
    "\n",
    "# matplotlib imports\n",
    "import matplotlib\n",
    "import matplotlib.pyplot as plt\n",
    "import matplotlib.gridspec as gridspec\n",
    "import matplotlib.animation as animation"
   ]
  },
  {
   "cell_type": "code",
   "execution_count": 2,
   "id": "04d53efc",
   "metadata": {},
   "outputs": [
    {
     "name": "stdout",
     "output_type": "stream",
     "text": [
      "7942\n"
     ]
    }
   ],
   "source": [
    "#assign constants (g, len)\n",
    "g = 9.81        # Gravity (m/s^2)\n",
    "l = 10.0        # Length of the pendulum (m)\n",
    "b_m = 0.05      # damping coefficient (Kg/s) Over mass\n",
    "dt = 0.02       # Time step (s) 50 fps\n",
    "sim_time = 10   # Total simulation time (s)\n",
    "threshold = 0.01# smallest angle allowable in simulation\n",
    "\n",
    "# initial conditions : theta = 30, angular velocity/omega = 0\n",
    "theta = np.deg2rad(30)\n",
    "theta_d = 0\n",
    "theta_vals = []\n",
    "while True:\n",
    "    theta_d_d = -((g/l)*np.sin(theta)) - (b_m * theta_d)    #angular acceleration equation\n",
    "    theta_d += theta_d_d * dt\n",
    "    theta += theta_d * dt\n",
    "    theta_vals.append(theta)\n",
    "    if abs(theta) < threshold and abs(theta_d) < 1e-3:\n",
    "        break\n",
    "\n",
    "print(len(theta_vals))"
   ]
  },
  {
   "cell_type": "code",
   "execution_count": 3,
   "id": "0dd22601",
   "metadata": {},
   "outputs": [
    {
     "data": {
      "image/png": "[encoded data removed]",
      "text/plain": [
       "<Figure size 640x480 with 1 Axes>"
      ]
     },
     "metadata": {},
     "output_type": "display_data"
    }
   ],
   "source": [
    "#plot setup\n",
    "fig,ax = plt.subplots()\n",
    "ax.set_xlim(-l *1.2, l * 1.2)\n",
    "ax.set_ylim(-l *1.2, l *0.2)\n",
    "ax.set_aspect('equal')\n",
    "ax.grid(True)\n",
    "ax.axhline(0, color='blue')  # y=0 axis (horizontal)\n",
    "ax.axvline(0, color='blue')  # x=0 axis (vertical)\n",
    "ax.spines['left'].set_visible(False)\n",
    "ax.spines['bottom'].set_visible(False)\n",
    "ax.spines['top'].set_visible(False)\n",
    "ax.spines['right'].set_visible(False)\n",
    "\n",
    "origin_pos = (0,0)\n",
    "bob_radius = l/20\n",
    "line, = ax.plot([],[],'k-',lw=2)\n",
    "bob = plt.Circle((0, 0), bob_radius, fc='red')\n",
    "ax.add_patch(bob)\n",
    "\n",
    "# --- Animation function ---\n",
    "def animate(i):\n",
    "    theta = theta_vals[i]\n",
    "    x = l * np.sin(theta)\n",
    "    y = -l * np.cos(theta)\n",
    "    line.set_data([origin_pos[0], x], [origin_pos[1], y])\n",
    "    bob.set_center((x, y))\n",
    "    return line, bob\n",
    "\n",
    "# --- Create animation ---\n",
    "ani = animation.FuncAnimation(fig, animate, frames=len(theta_vals), interval=dt*1000, blit=True)\n",
    "\n",
    "# --- Save to MP4 ---\n",
    "ffmpeg_writer = animation.FFMpegWriter(fps=int(1/dt))\n",
    "ani.save('damped_pendulum_threshold.mp4', writer=ffmpeg_writer)\n",
    "plt.show()"
   ]
  },
  {
   "cell_type": "markdown",
   "id": "432ee447",
   "metadata": {},
   "source": [
    "# OUTPUT\n",
    "Upon successfully running the cells you will get the output below:\n",
    "\n",
    "<video width=\"480\" height=\"320\" controls>\n",
    "  <source src=\"Resources\\damped_pendulum_threshold.mp4\" type=\"video/mp4\">\n",
    "  Your browser does not support the video tag.\n",
    "</video>\n",
    "\n",
    "you can find the video output in the resources folder.\n",
    "\n",
    "## Troubleshooting\n",
    "On Windows, if you see a FileNotFoundError: [WinError 2] The system cannot find the file specified after trying to save a .mp4 file, you may not have ffmpeg installed. To check if ffmpeg is installed and added to your PATH variable correctly, open a command prompt window and run the command ffmpeg. If you see a message showing the version of ffmpeg installed, then you have ffmpeg installed properly already. If ffmpeg is not installed, install it by doing the following:\n",
    "\n",
    "- Go to the official FFmpeg website.\n",
    "- Click Windows > then go to the “Windows builds by Gyan.dev” link.\n",
    "- On that site, click on the “essentials” zip under “Release builds”.\n",
    "- Extract the zipped folder to your Downloads folder.\n",
    "- Cut and paste the extracted folder to C:\\Users\\Programs.\n",
    "- In the extracted folder you just pasted, navigate until your find the bin folder. Right click on the bin folder and copy its path.\n",
    "- Press the windows key and type Edit the System Variables.\n",
    "- Click Environmental Variables, then under the System Variables tab, select Path and then click the Edit button.\n",
    "- Click New and paste in the path to the bin folder you copied in step 4.\n",
    "- Press OK until the window closes.\n",
    "- Open a new command window and run the command ffmpeg. If you see a message showing the version of ffmpeg, then you have ffmpeg configured properly.\n",
    "- Close and re-open visual studio. Run the program again, and the .mp4 file should be created successfully."
   ]
  },
  {
   "cell_type": "markdown",
   "id": "6fe96181",
   "metadata": {},
   "source": []
  }
 ],
 "metadata": {
  "kernelspec": {
   "display_name": ".venv",
   "language": "python",
   "name": "python3"
  },
  "language_info": {
   "codemirror_mode": {
    "name": "ipython",
    "version": 3
   },
   "file_extension": ".py",
   "mimetype": "text/x-python",
   "name": "python",
   "nbconvert_exporter": "python",
   "pygments_lexer": "ipython3",
   "version": "3.11.4"
  }
 },
 "nbformat": 4,
 "nbformat_minor": 5
}
